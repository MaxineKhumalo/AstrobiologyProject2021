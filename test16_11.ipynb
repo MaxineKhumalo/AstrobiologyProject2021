{
 "cells": [
  {
   "cell_type": "code",
   "execution_count": 1,
   "metadata": {},
   "outputs": [],
   "source": [
    "#!pip install exoplasim\n",
    "#!pip install exoplasim[netCDF4,HDF5]"
   ]
  },
  {
   "cell_type": "code",
   "execution_count": 1,
   "metadata": {},
   "outputs": [],
   "source": [
    "import exoplasim as exo\n",
    "import matplotlib.pyplot as plt\n",
    "import numpy as np\n",
    "import pickle\n",
    "%matplotlib inline"
   ]
  },
  {
   "cell_type": "markdown",
   "metadata": {
    "tags": []
   },
   "source": [
    "# Astrobiology project"
   ]
  },
  {
   "cell_type": "markdown",
   "metadata": {},
   "source": [
    "Some of my difficulties so far:\n",
    " - exoplasim crashes regularly - might be an important insight for my write up\n",
    " - Results are dependent on the number of cpus available - should perhaps look into performance issues - could attempt an HPC approach if the work is expanded on\n",
    " - a little bit of a black box - configuration gives some input choices but it is a lot of waiting for background work\n",
    " Some questions:\n",
    "  - Should I work on getting more years? A little confused by what it means\n",
    "  - Ways to improve the title"
   ]
  },
  {
   "cell_type": "markdown",
   "metadata": {},
   "source": [
    "Remember to discuss sources for benchmarks on Earth"
   ]
  },
  {
   "cell_type": "markdown",
   "metadata": {},
   "source": [
    "For this experiment we model planets as Erthlike and vary the different values."
   ]
  },
  {
   "cell_type": "code",
   "execution_count": 2,
   "metadata": {},
   "outputs": [
    {
     "name": "stdout",
     "output_type": "stream",
     "text": [
      "Checking for /srv/conda/envs/notebook/lib/python3.7/site-packages/exoplasim/plasim/run/most_plasim_t21_l10_p1.x....\n"
     ]
    }
   ],
   "source": [
    "earthlike = exo.Model(resolution='T21', ncpus=1, workdir='earthlike_run', modelname='Earth-like', outputtype='.npz')"
   ]
  },
  {
   "cell_type": "markdown",
   "metadata": {
    "tags": []
   },
   "source": [
    "## Pressure"
   ]
  },
  {
   "cell_type": "code",
   "execution_count": 4,
   "metadata": {},
   "outputs": [],
   "source": [
    "P = [0.01, 0.1, 1, 10, 100]"
   ]
  },
  {
   "cell_type": "code",
   "execution_count": 5,
   "metadata": {},
   "outputs": [
    {
     "name": "stdout",
     "output_type": "stream",
     "text": [
      "Mean Molecular Weight set to 28.9703 g/mol\n",
      "Writing configuration....\n",
      "1\n",
      "1367.0\n",
      "None\n",
      "None\n",
      "\n",
      "287.0000002469167\n",
      "0.01\n",
      "1\n",
      "4\n",
      "1.0\n",
      "0\n",
      "180.0\n",
      "None\n",
      "9.80665\n",
      "1.0\n",
      "None\n",
      "None\n",
      "None\n",
      "0\n",
      "None\n",
      "1\n",
      "0\n",
      "0\n",
      "gp|exp|sp\n",
      "8.0\n",
      "8\n",
      "15.0\n",
      "None\n",
      "None\n",
      "None\n",
      "None\n",
      "None\n",
      "None\n",
      "None\n",
      "50.0\n",
      "None\n",
      "0\n",
      "None\n",
      "None\n",
      "None\n",
      "ECHAM-3\n",
      "0\n",
      "None\n",
      "0\n",
      "0\n",
      "None\n",
      "0\n",
      "1\n",
      "None\n",
      "1.0\n",
      "50.0\n",
      "None\n",
      "50.0\n",
      "0\n",
      "None\n",
      "30.0\n",
      "None\n",
      "None\n",
      "toggle|0&start|320&end|576&interval|4\n",
      "720\n",
      "\n",
      "None\n",
      "None\n",
      "0\n",
      "4\n",
      "VITHRESH|0.145&GPITHRESH|0.37&VMXTHRESH|33.0&LAVTHRESH|1.2e-05&VRMTHRESH|0.577&MINSURFTEMP|298.15&MAXSURFTEMP|373.15&WINDTHRESH|33.0&SWINDTHRESH|20.5&SIZETHRESH|30&ENDTHRESH|16&MINSTORMLEN|256&MAXSTORMLEN|1024&NKTRIGGER|0&toggle|0\n",
      "\n",
      "None\n",
      "0&2.0&-1.0\n",
      "0.0005\n",
      "0.0\n",
      "None\n",
      "None\n",
      "0.0\n",
      "0\n",
      "1\n",
      "1.0\n",
      "0.5\n",
      "1.0\n",
      "2.0\n",
      "0.0\n",
      "0.0\n",
      "Writing to /home/jovyan/demo/earthlike_run/Earth-like.cfg....\n"
     ]
    }
   ],
   "source": [
    "for i in P:\n",
    "    earthlike.configure(startemp=5800.0, flux=1367.0,                              # Stellar parameters\n",
    "                        eccentricity=0.016715,obliquity=23.441,fixedorbit=True,    # Orbital parameters\n",
    "                        synchronous=True,rotationperiod=1.0,                       # Rotation\n",
    "                        radius=1.0,gravity=9.80665,#aquaplanet=True,               # Bulk properties\n",
    "                        pN2=i*(1-360e-6),pCO2=i*360e-6,ozone=True,                 # Atmosphere\n",
    "                        timestep=30.0,snapshots=720,physicsfilter=\"gp|exp|sp\")     # Model dynamics\n",
    "    earthlike.exportcfg();\n",
    "    earthlike.run(years=1,crashifbroken=True);\n",
    "    print('running...','P=',i)\n",
    "    lon = earthlike.inspect(\"lon\")\n",
    "    lat = earthlike.inspect(\"lat\")\n",
    "    ts = earthlike.inspect(\"ts\",tavg=True)\n",
    "    im=plt.pcolormesh(lon,lat,ts,cmap=\"RdBu_r\",vmin=273.15-60.0,vmax=273.15+60.0,shading=\"Gouraud\")\n",
    "    plt.contour(lon,lat,ts,[273.15,],colors=['gray',])\n",
    "    plt.colorbar(im,label=\"Surface Temperature [K]\")\n",
    "    plt.xlabel(\"Longitude [deg]\")\n",
    "    plt.ylabel(\"Latitude [deg]\")\n",
    "    plt.title(\"Earthlike with P={} bar Surface Temperature\".format(str(i)))\n",
    "    plt.savefig(\"P={}bar_Surface_Temperature.png\".format(str(i)),dpi=300)\n",
    "    with open(\"P={}bar_Surface_Temperature.txt\".format(str(i)), \"wb\") as fp:   #Pickling\n",
    "        pickle.dump([lon,lat,ts], fp)\n",
    "    print(\"P =\",i)"
   ]
  },
  {
   "cell_type": "markdown",
   "metadata": {},
   "source": [
    "## Eccentricity"
   ]
  },
  {
   "cell_type": "code",
   "execution_count": 23,
   "metadata": {},
   "outputs": [
    {
     "data": {
      "text/plain": [
       "[[0.001, 0.01, 0.016715, 0.1, 0.3, 0.7, 0.9], [1, 2, 3, 4, 5]]"
      ]
     },
     "execution_count": 23,
     "metadata": {},
     "output_type": "execute_result"
    }
   ],
   "source": [
    "e = [0.001, 0.01, 0.016715, 0.1, 0.3, 0.7, 0.9]"
   ]
  },
  {
   "cell_type": "code",
   "execution_count": 8,
   "metadata": {},
   "outputs": [
    {
     "name": "stdout",
     "output_type": "stream",
     "text": [
      "Mean Molecular Weight set to 28.0192 g/mol\n",
      "Writing configuration....\n",
      "1\n",
      "1167.0\n",
      "3480.0\n",
      "None\n",
      "pN2|0.099964&pCO2|3.6e-05\n",
      "296.7420501316067\n",
      "0.09999999999999999\n",
      "1\n",
      "0\n",
      "37.426\n",
      "1\n",
      "180.0\n",
      "None\n",
      "11.9\n",
      "1.19\n",
      "0.0\n",
      "0.0\n",
      "None\n",
      "1\n",
      "None\n",
      "1\n",
      "0\n",
      "0\n",
      "gp|exp|sp\n",
      "8.0\n",
      "8\n",
      "15.0\n",
      "None\n",
      "None\n",
      "None\n",
      "None\n",
      "None\n",
      "None\n",
      "None\n",
      "50.0\n",
      "None\n",
      "0\n",
      "None\n",
      "None\n",
      "None\n",
      "ECHAM-3\n",
      "0\n",
      "None\n",
      "1\n",
      "0\n",
      "None\n",
      "0\n",
      "0\n",
      "None\n",
      "1.0\n",
      "50.0\n",
      "None\n",
      "None\n",
      "0\n",
      "None\n",
      "30.0\n",
      "None\n",
      "None\n",
      "toggle|0&start|320&end|576&interval|4\n",
      "720\n",
      "\n",
      "None\n",
      "None\n",
      "0\n",
      "4\n",
      "VITHRESH|0.145&GPITHRESH|0.37&VMXTHRESH|33.0&LAVTHRESH|1.2e-05&VRMTHRESH|0.577&MINSURFTEMP|298.15&MAXSURFTEMP|373.15&WINDTHRESH|33.0&SWINDTHRESH|20.5&SIZETHRESH|30&ENDTHRESH|16&MINSTORMLEN|256&MAXSTORMLEN|1024&NKTRIGGER|0&toggle|0\n",
      "\n",
      "None\n",
      "0&2.0&-1.0\n",
      "0.0005\n",
      "0.0\n",
      "None\n",
      "None\n",
      "0.0\n",
      "Writing to /home/jovyan/demo/toi700d_run/TOI-700d.cfg....\n"
     ]
    },
    {
     "ename": "KeyboardInterrupt",
     "evalue": "",
     "output_type": "error",
     "traceback": [
      "\u001b[0;31m---------------------------------------------------------------------------\u001b[0m",
      "\u001b[0;31mKeyboardInterrupt\u001b[0m                         Traceback (most recent call last)",
      "\u001b[0;32m<ipython-input-8-7bb734ca60bd>\u001b[0m in \u001b[0;36m<module>\u001b[0;34m\u001b[0m\n\u001b[1;32m      6\u001b[0m                   timestep=30.0,snapshots=720,physicsfilter=\"gp|exp|sp\"); # Model dynamics\n\u001b[1;32m      7\u001b[0m \u001b[0mtoi700d\u001b[0m\u001b[0;34m.\u001b[0m\u001b[0mexportcfg\u001b[0m\u001b[0;34m(\u001b[0m\u001b[0;34m)\u001b[0m\u001b[0;34m;\u001b[0m\u001b[0;34m\u001b[0m\u001b[0;34m\u001b[0m\u001b[0m\n\u001b[0;32m----> 8\u001b[0;31m \u001b[0mtoi700d\u001b[0m\u001b[0;34m.\u001b[0m\u001b[0mrun\u001b[0m\u001b[0;34m(\u001b[0m\u001b[0myears\u001b[0m\u001b[0;34m=\u001b[0m\u001b[0;36m1\u001b[0m\u001b[0;34m,\u001b[0m\u001b[0mcrashifbroken\u001b[0m\u001b[0;34m=\u001b[0m\u001b[0;32mTrue\u001b[0m\u001b[0;34m)\u001b[0m\u001b[0;34m;\u001b[0m\u001b[0;34m\u001b[0m\u001b[0;34m\u001b[0m\u001b[0m\n\u001b[0m\u001b[1;32m      9\u001b[0m \u001b[0;32mimport\u001b[0m \u001b[0mmatplotlib\u001b[0m\u001b[0;34m.\u001b[0m\u001b[0mpyplot\u001b[0m \u001b[0;32mas\u001b[0m \u001b[0mplt\u001b[0m\u001b[0;34m\u001b[0m\u001b[0;34m\u001b[0m\u001b[0m\n\u001b[1;32m     10\u001b[0m \u001b[0mlon\u001b[0m \u001b[0;34m=\u001b[0m \u001b[0mtoi700d\u001b[0m\u001b[0;34m.\u001b[0m\u001b[0minspect\u001b[0m\u001b[0;34m(\u001b[0m\u001b[0;34m\"lon\"\u001b[0m\u001b[0;34m)\u001b[0m\u001b[0;34m\u001b[0m\u001b[0;34m\u001b[0m\u001b[0m\n",
      "\u001b[0;32m/srv/conda/envs/notebook/lib/python3.7/site-packages/exoplasim/__init__.py\u001b[0m in \u001b[0;36mrun\u001b[0;34m(self, **kwargs)\u001b[0m\n\u001b[1;32m    385\u001b[0m         \"\"\"\n\u001b[1;32m    386\u001b[0m         \u001b[0;32mif\u001b[0m \u001b[0;32mnot\u001b[0m \u001b[0mself\u001b[0m\u001b[0;34m.\u001b[0m\u001b[0mrunscript\u001b[0m\u001b[0;34m:\u001b[0m\u001b[0;34m\u001b[0m\u001b[0;34m\u001b[0m\u001b[0m\n\u001b[0;32m--> 387\u001b[0;31m             \u001b[0mself\u001b[0m\u001b[0;34m.\u001b[0m\u001b[0m_run\u001b[0m\u001b[0;34m(\u001b[0m\u001b[0;34m**\u001b[0m\u001b[0mkwargs\u001b[0m\u001b[0;34m)\u001b[0m\u001b[0;34m\u001b[0m\u001b[0;34m\u001b[0m\u001b[0m\n\u001b[0m\u001b[1;32m    388\u001b[0m         \u001b[0;32melse\u001b[0m\u001b[0;34m:\u001b[0m\u001b[0;34m\u001b[0m\u001b[0;34m\u001b[0m\u001b[0m\n\u001b[1;32m    389\u001b[0m             \u001b[0;32mtry\u001b[0m\u001b[0;34m:\u001b[0m\u001b[0;34m\u001b[0m\u001b[0;34m\u001b[0m\u001b[0m\n",
      "\u001b[0;32m/srv/conda/envs/notebook/lib/python3.7/site-packages/exoplasim/__init__.py\u001b[0m in \u001b[0;36m_run\u001b[0;34m(self, years, postprocess, crashifbroken, clean)\u001b[0m\n\u001b[1;32m    793\u001b[0m                 \u001b[0;32melif\u001b[0m \u001b[0mfloat\u001b[0m\u001b[0;34m(\u001b[0m\u001b[0msys\u001b[0m\u001b[0;34m.\u001b[0m\u001b[0mversion\u001b[0m\u001b[0;34m[\u001b[0m\u001b[0;34m:\u001b[0m\u001b[0;36m3\u001b[0m\u001b[0;34m]\u001b[0m\u001b[0;34m)\u001b[0m\u001b[0;34m>=\u001b[0m\u001b[0;36m3.7\u001b[0m\u001b[0;34m:\u001b[0m\u001b[0;34m\u001b[0m\u001b[0;34m\u001b[0m\u001b[0m\n\u001b[1;32m    794\u001b[0m                     subprocess.run([self._exec+self.executable],shell=True,check=True,\n\u001b[0;32m--> 795\u001b[0;31m                                    capture_output=True)\n\u001b[0m\u001b[1;32m    796\u001b[0m                 \u001b[0;32melse\u001b[0m\u001b[0;34m:\u001b[0m\u001b[0;34m\u001b[0m\u001b[0;34m\u001b[0m\u001b[0m\n\u001b[1;32m    797\u001b[0m                     \u001b[0mstat\u001b[0m \u001b[0;34m=\u001b[0m \u001b[0mos\u001b[0m\u001b[0;34m.\u001b[0m\u001b[0msystem\u001b[0m\u001b[0;34m(\u001b[0m\u001b[0mself\u001b[0m\u001b[0;34m.\u001b[0m\u001b[0m_exec\u001b[0m\u001b[0;34m+\u001b[0m\u001b[0mself\u001b[0m\u001b[0;34m.\u001b[0m\u001b[0mexecutable\u001b[0m\u001b[0;34m)\u001b[0m\u001b[0;34m\u001b[0m\u001b[0;34m\u001b[0m\u001b[0m\n",
      "\u001b[0;32m/srv/conda/envs/notebook/lib/python3.7/subprocess.py\u001b[0m in \u001b[0;36mrun\u001b[0;34m(input, capture_output, timeout, check, *popenargs, **kwargs)\u001b[0m\n\u001b[1;32m    488\u001b[0m     \u001b[0;32mwith\u001b[0m \u001b[0mPopen\u001b[0m\u001b[0;34m(\u001b[0m\u001b[0;34m*\u001b[0m\u001b[0mpopenargs\u001b[0m\u001b[0;34m,\u001b[0m \u001b[0;34m**\u001b[0m\u001b[0mkwargs\u001b[0m\u001b[0;34m)\u001b[0m \u001b[0;32mas\u001b[0m \u001b[0mprocess\u001b[0m\u001b[0;34m:\u001b[0m\u001b[0;34m\u001b[0m\u001b[0;34m\u001b[0m\u001b[0m\n\u001b[1;32m    489\u001b[0m         \u001b[0;32mtry\u001b[0m\u001b[0;34m:\u001b[0m\u001b[0;34m\u001b[0m\u001b[0;34m\u001b[0m\u001b[0m\n\u001b[0;32m--> 490\u001b[0;31m             \u001b[0mstdout\u001b[0m\u001b[0;34m,\u001b[0m \u001b[0mstderr\u001b[0m \u001b[0;34m=\u001b[0m \u001b[0mprocess\u001b[0m\u001b[0;34m.\u001b[0m\u001b[0mcommunicate\u001b[0m\u001b[0;34m(\u001b[0m\u001b[0minput\u001b[0m\u001b[0;34m,\u001b[0m \u001b[0mtimeout\u001b[0m\u001b[0;34m=\u001b[0m\u001b[0mtimeout\u001b[0m\u001b[0;34m)\u001b[0m\u001b[0;34m\u001b[0m\u001b[0;34m\u001b[0m\u001b[0m\n\u001b[0m\u001b[1;32m    491\u001b[0m         \u001b[0;32mexcept\u001b[0m \u001b[0mTimeoutExpired\u001b[0m \u001b[0;32mas\u001b[0m \u001b[0mexc\u001b[0m\u001b[0;34m:\u001b[0m\u001b[0;34m\u001b[0m\u001b[0;34m\u001b[0m\u001b[0m\n\u001b[1;32m    492\u001b[0m             \u001b[0mprocess\u001b[0m\u001b[0;34m.\u001b[0m\u001b[0mkill\u001b[0m\u001b[0;34m(\u001b[0m\u001b[0;34m)\u001b[0m\u001b[0;34m\u001b[0m\u001b[0;34m\u001b[0m\u001b[0m\n",
      "\u001b[0;32m/srv/conda/envs/notebook/lib/python3.7/subprocess.py\u001b[0m in \u001b[0;36mcommunicate\u001b[0;34m(self, input, timeout)\u001b[0m\n\u001b[1;32m    962\u001b[0m \u001b[0;34m\u001b[0m\u001b[0m\n\u001b[1;32m    963\u001b[0m             \u001b[0;32mtry\u001b[0m\u001b[0;34m:\u001b[0m\u001b[0;34m\u001b[0m\u001b[0;34m\u001b[0m\u001b[0m\n\u001b[0;32m--> 964\u001b[0;31m                 \u001b[0mstdout\u001b[0m\u001b[0;34m,\u001b[0m \u001b[0mstderr\u001b[0m \u001b[0;34m=\u001b[0m \u001b[0mself\u001b[0m\u001b[0;34m.\u001b[0m\u001b[0m_communicate\u001b[0m\u001b[0;34m(\u001b[0m\u001b[0minput\u001b[0m\u001b[0;34m,\u001b[0m \u001b[0mendtime\u001b[0m\u001b[0;34m,\u001b[0m \u001b[0mtimeout\u001b[0m\u001b[0;34m)\u001b[0m\u001b[0;34m\u001b[0m\u001b[0;34m\u001b[0m\u001b[0m\n\u001b[0m\u001b[1;32m    965\u001b[0m             \u001b[0;32mexcept\u001b[0m \u001b[0mKeyboardInterrupt\u001b[0m\u001b[0;34m:\u001b[0m\u001b[0;34m\u001b[0m\u001b[0;34m\u001b[0m\u001b[0m\n\u001b[1;32m    966\u001b[0m                 \u001b[0;31m# https://bugs.python.org/issue25942\u001b[0m\u001b[0;34m\u001b[0m\u001b[0;34m\u001b[0m\u001b[0;34m\u001b[0m\u001b[0m\n",
      "\u001b[0;32m/srv/conda/envs/notebook/lib/python3.7/subprocess.py\u001b[0m in \u001b[0;36m_communicate\u001b[0;34m(self, input, endtime, orig_timeout)\u001b[0m\n\u001b[1;32m   1713\u001b[0m                             'failed to raise TimeoutExpired.')\n\u001b[1;32m   1714\u001b[0m \u001b[0;34m\u001b[0m\u001b[0m\n\u001b[0;32m-> 1715\u001b[0;31m                     \u001b[0mready\u001b[0m \u001b[0;34m=\u001b[0m \u001b[0mselector\u001b[0m\u001b[0;34m.\u001b[0m\u001b[0mselect\u001b[0m\u001b[0;34m(\u001b[0m\u001b[0mtimeout\u001b[0m\u001b[0;34m)\u001b[0m\u001b[0;34m\u001b[0m\u001b[0;34m\u001b[0m\u001b[0m\n\u001b[0m\u001b[1;32m   1716\u001b[0m                     \u001b[0mself\u001b[0m\u001b[0;34m.\u001b[0m\u001b[0m_check_timeout\u001b[0m\u001b[0;34m(\u001b[0m\u001b[0mendtime\u001b[0m\u001b[0;34m,\u001b[0m \u001b[0morig_timeout\u001b[0m\u001b[0;34m,\u001b[0m \u001b[0mstdout\u001b[0m\u001b[0;34m,\u001b[0m \u001b[0mstderr\u001b[0m\u001b[0;34m)\u001b[0m\u001b[0;34m\u001b[0m\u001b[0;34m\u001b[0m\u001b[0m\n\u001b[1;32m   1717\u001b[0m \u001b[0;34m\u001b[0m\u001b[0m\n",
      "\u001b[0;32m/srv/conda/envs/notebook/lib/python3.7/selectors.py\u001b[0m in \u001b[0;36mselect\u001b[0;34m(self, timeout)\u001b[0m\n\u001b[1;32m    413\u001b[0m         \u001b[0mready\u001b[0m \u001b[0;34m=\u001b[0m \u001b[0;34m[\u001b[0m\u001b[0;34m]\u001b[0m\u001b[0;34m\u001b[0m\u001b[0;34m\u001b[0m\u001b[0m\n\u001b[1;32m    414\u001b[0m         \u001b[0;32mtry\u001b[0m\u001b[0;34m:\u001b[0m\u001b[0;34m\u001b[0m\u001b[0;34m\u001b[0m\u001b[0m\n\u001b[0;32m--> 415\u001b[0;31m             \u001b[0mfd_event_list\u001b[0m \u001b[0;34m=\u001b[0m \u001b[0mself\u001b[0m\u001b[0;34m.\u001b[0m\u001b[0m_selector\u001b[0m\u001b[0;34m.\u001b[0m\u001b[0mpoll\u001b[0m\u001b[0;34m(\u001b[0m\u001b[0mtimeout\u001b[0m\u001b[0;34m)\u001b[0m\u001b[0;34m\u001b[0m\u001b[0;34m\u001b[0m\u001b[0m\n\u001b[0m\u001b[1;32m    416\u001b[0m         \u001b[0;32mexcept\u001b[0m \u001b[0mInterruptedError\u001b[0m\u001b[0;34m:\u001b[0m\u001b[0;34m\u001b[0m\u001b[0;34m\u001b[0m\u001b[0m\n\u001b[1;32m    417\u001b[0m             \u001b[0;32mreturn\u001b[0m \u001b[0mready\u001b[0m\u001b[0;34m\u001b[0m\u001b[0;34m\u001b[0m\u001b[0m\n",
      "\u001b[0;31mKeyboardInterrupt\u001b[0m: "
     ]
    }
   ],
   "source": [
    "for i in e:\n",
    "    earthlike.configure(startemp=5800.0, flux=1367.0,                              # Stellar parameters\n",
    "                        eccentricity=e,obliquity=23.441,fixedorbit=True,    # Orbital parameters\n",
    "                        synchronous=True,rotationperiod=1.0,                       # Rotation\n",
    "                        radius=1.0,gravity=9.80665,#aquaplanet=True,               # Bulk properties\n",
    "                        pN2=1*(1-360e-6),pCO2=1*360e-6,ozone=True,                 # Atmosphere\n",
    "                        timestep=30.0,snapshots=720,physicsfilter=\"gp|exp|sp\")     # Model dynamics\n",
    "    earthlike.exportcfg();\n",
    "    earthlike.run(years=1,crashifbroken=True);\n",
    "    print('running...','e=',i)\n",
    "    lon = earthlike.inspect(\"lon\")\n",
    "    lat = earthlike.inspect(\"lat\")\n",
    "    ts = earthlike.inspect(\"ts\",tavg=True)\n",
    "    im=plt.pcolormesh(lon,lat,ts,cmap=\"RdBu_r\",vmin=273.15-60.0,vmax=273.15+60.0,shading=\"Gouraud\")\n",
    "    plt.contour(lon,lat,ts,[273.15,],colors=['gray',])\n",
    "    plt.colorbar(im,label=\"Surface Temperature [K]\")\n",
    "    plt.xlabel(\"Longitude [deg]\")\n",
    "    plt.ylabel(\"Latitude [deg]\")\n",
    "    plt.title(\"Earthlike with e={} Surface Temperature\".format(str(i)))\n",
    "    plt.savefig(\"e={}_Surface_Temperature.png\".format(str(i)),dpi=300)\n",
    "    with open(\"e={}_Surface_Temperature.txt\".format(str(i)), \"wb\") as fp:   #Pickling\n",
    "        pickle.dump([lon,lat,ts], fp)\n",
    "    print(\"e =\",i)"
   ]
  },
  {
   "cell_type": "markdown",
   "metadata": {},
   "source": [
    "## Obliquity"
   ]
  },
  {
   "cell_type": "code",
   "execution_count": null,
   "metadata": {},
   "outputs": [],
   "source": [
    "o = [0, 1, 10, 23.441, 45, 90, 100, 135, 180]"
   ]
  },
  {
   "cell_type": "code",
   "execution_count": null,
   "metadata": {},
   "outputs": [],
   "source": [
    "for i in o:\n",
    "    earthlike.configure(startemp=5800.0, flux=1367.0,                              # Stellar parameters\n",
    "                        eccentricity= 0.016715,obliquity=i,fixedorbit=True,    # Orbital parameters\n",
    "                        synchronous=True,rotationperiod=1.0,                       # Rotation\n",
    "                        radius=1.0,gravity=9.80665,#aquaplanet=True,               # Bulk properties\n",
    "                        pN2=1*(1-360e-6),pCO2=1*360e-6,ozone=True,                 # Atmosphere\n",
    "                        timestep=30.0,snapshots=720,physicsfilter=\"gp|exp|sp\")     # Model dynamics\n",
    "    earthlike.exportcfg();\n",
    "    earthlike.run(years=1,crashifbroken=True);\n",
    "    print('running...','o=',i)\n",
    "    lon = earthlike.inspect(\"lon\")\n",
    "    lat = earthlike.inspect(\"lat\")\n",
    "    ts = earthlike.inspect(\"ts\",tavg=True)\n",
    "    im=plt.pcolormesh(lon,lat,ts,cmap=\"RdBu_r\",vmin=273.15-60.0,vmax=273.15+60.0,shading=\"Gouraud\")\n",
    "    plt.contour(lon,lat,ts,[273.15,],colors=['gray',])\n",
    "    plt.colorbar(im,label=\"Surface Temperature [K]\")\n",
    "    plt.xlabel(\"Longitude [deg]\")\n",
    "    plt.ylabel(\"Latitude [deg]\")\n",
    "    plt.title(\"Earthlike with obliq={} Surface Temperature\".format(str(i)))\n",
    "    plt.savefig(\"obliq={}_Surface_Temperature.png\".format(str(i)),dpi=300)\n",
    "    with open(\"obliq={}_Surface_Temperature.txt\".format(str(i)), \"wb\") as fp:   #Pickling\n",
    "        pickle.dump([lon,lat,ts], fp)\n",
    "    print(\"0 =\",i)"
   ]
  },
  {
   "cell_type": "markdown",
   "metadata": {},
   "source": [
    "## Other"
   ]
  },
  {
   "cell_type": "code",
   "execution_count": null,
   "metadata": {},
   "outputs": [],
   "source": [
    "for i in P:\n",
    "    earthlike.configure(pressure = i,timestep=30.0,snapshots=720,physicsfilter=\"gp|exp|sp\")\n",
    "    earthlike.configure(startemp=5800.0, flux=1367.0,                              # Stellar parameters\n",
    "                        eccentricity=0.016715,obliquity=23.441,fixedorbit=True,    # Orbital parameters\n",
    "                        synchronous=True,rotationperiod=1.0,                       # Rotation\n",
    "                        radius=1.0,gravity=9.80665,#aquaplanet=True,               # Bulk properties\n",
    "                        pN2=1*(1-360e-6),pCO2=1*360e-6,ozone=True,                 # Atmosphere\n",
    "                        timestep=30.0,snapshots=720,physicsfilter=\"gp|exp|sp\")     # Model dynamics\n",
    "    earthlike.exportcfg();\n",
    "    earthlike.run(years=1,crashifbroken=True);\n",
    "    print('running...','P=',i)\n",
    "    lon = toi700d.inspect(\"lon\")\n",
    "    lat = toi700d.inspect(\"lat\")\n",
    "    ts = toi700d.inspect(\"ts\",tavg=True)\n",
    "    im=plt.pcolormesh(lon,lat,ts,cmap=\"RdBu_r\",vmin=273.15-60.0,vmax=273.15+60.0,shading=\"Gouraud\")\n",
    "    plt.contour(lon,lat,ts,[273.15,],colors=['gray',])\n",
    "    plt.colorbar(im,label=\"Surface Temperature [K]\")\n",
    "    plt.xlabel(\"Longitude [deg]\")\n",
    "    plt.ylabel(\"Latitude [deg]\")\n",
    "    plt.title(\"Earthlike with P={} bar Surface Temperature\".format(str(i)))\n",
    "    plt.savefig(\"P={}bar_Surface_Temperature.png\".format(str(i)),dpi=300)\n",
    "    print(\"P =\",i)"
   ]
  },
  {
   "cell_type": "code",
   "execution_count": null,
   "metadata": {},
   "outputs": [],
   "source": []
  }
 ],
 "metadata": {
  "kernelspec": {
   "display_name": "Python 3",
   "language": "python",
   "name": "python3"
  },
  "language_info": {
   "codemirror_mode": {
    "name": "ipython",
    "version": 3
   },
   "file_extension": ".py",
   "mimetype": "text/x-python",
   "name": "python",
   "nbconvert_exporter": "python",
   "pygments_lexer": "ipython3",
   "version": "3.6.10"
  }
 },
 "nbformat": 4,
 "nbformat_minor": 5
}
